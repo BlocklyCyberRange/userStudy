{
 "cells": [
  {
   "cell_type": "markdown",
   "metadata": {},
   "source": [
    "# A small Notebook to showcase the analysis of the trainee_dataset.csv"
   ]
  },
  {
   "cell_type": "markdown",
   "metadata": {},
   "source": [
    "#### Imports, variables, and the dataset"
   ]
  },
  {
   "cell_type": "code",
   "execution_count": 35,
   "metadata": {},
   "outputs": [],
   "source": [
    "import pandas as pd\n",
    "import numpy as np\n",
    "import plotly.express as px\n",
    "\n",
    "relevant_tasks = [1, 2, 3, 4, 5]\n",
    "url = \"https://raw.githubusercontent.com/BlocklyCyberRange/userStudy/main/trainee_dataset.csv\"\n",
    "df = pd.read_csv(url, sep=\";\")"
   ]
  },
  {
   "cell_type": "markdown",
   "metadata": {},
   "source": [
    "#### Format timestamp columns"
   ]
  },
  {
   "cell_type": "code",
   "execution_count": 25,
   "metadata": {},
   "outputs": [],
   "source": [
    "for i in relevant_tasks:\n",
    "    df[f\"task{i}_start\"] = pd.to_datetime(df[f\"task{i}_start\"])\n",
    "    df[f\"task{i}_end\"] = pd.to_datetime(df[f\"task{i}_end\"])"
   ]
  },
  {
   "cell_type": "markdown",
   "metadata": {},
   "source": [
    "#### Prepare new dataframe for analysis of TLX results"
   ]
  },
  {
   "cell_type": "code",
   "execution_count": 31,
   "metadata": {},
   "outputs": [],
   "source": [
    "df_hypo2_tlx = pd.DataFrame(columns=[\"Approach\", \"Task\", \"TLX\"])\n",
    "\n",
    "for index, row in df.iterrows():\n",
    "  for i in relevant_tasks:\n",
    "    tlx_score = np.sum([row[f\"task{i}_tlx_1\"], row[f\"task{i}_tlx_2\"], row[f\"task{i}_tlx_3\"], row[f\"task{i}_tlx_4\"]]) / 4\n",
    "    task_df = pd.DataFrame([{\"Approach\": row[\"group\"], \"Task\": f\"Task {i-1}\", \"TLX\": tlx_score}], columns=[\"Approach\", \"Task\", \"TLX\"])\n",
    "    df_hypo2_tlx = pd.concat([df_hypo2_tlx, task_df], ignore_index=True)"
   ]
  },
  {
   "cell_type": "markdown",
   "metadata": {},
   "source": [
    "#### Plot TLX results"
   ]
  },
  {
   "cell_type": "code",
   "execution_count": 32,
   "metadata": {},
   "outputs": [
    {
     "data": {
      "application/vnd.plotly.v1+json": {
       "config": {
        "plotlyServerURL": "https://plot.ly"
       },
       "data": [
        {
         "alignmentgroup": "True",
         "boxpoints": false,
         "hovertemplate": "Approach=Json<br>Task=%{x}<br>TLX=%{y}<extra></extra>",
         "jitter": 0.2,
         "legendgroup": "Json",
         "marker": {
          "color": "rgba(218, 60, 66, 1.00)"
         },
         "name": "Json",
         "notched": false,
         "offsetgroup": "Json",
         "orientation": "v",
         "showlegend": true,
         "type": "box",
         "whiskerwidth": 0.5,
         "x": [
          "Task 0",
          "Task 1",
          "Task 2",
          "Task 3",
          "Task 4",
          "Task 0",
          "Task 1",
          "Task 2",
          "Task 3",
          "Task 4",
          "Task 0",
          "Task 1",
          "Task 2",
          "Task 3",
          "Task 4",
          "Task 0",
          "Task 1",
          "Task 2",
          "Task 3",
          "Task 4",
          "Task 0",
          "Task 1",
          "Task 2",
          "Task 3",
          "Task 4",
          "Task 0",
          "Task 1",
          "Task 2",
          "Task 3",
          "Task 4",
          "Task 0",
          "Task 1",
          "Task 2",
          "Task 3",
          "Task 4",
          "Task 0",
          "Task 1",
          "Task 2",
          "Task 3",
          "Task 4",
          "Task 0",
          "Task 1",
          "Task 2",
          "Task 3",
          "Task 4",
          "Task 0",
          "Task 1",
          "Task 2",
          "Task 3",
          "Task 4",
          "Task 0",
          "Task 1",
          "Task 2",
          "Task 3",
          "Task 4",
          "Task 0",
          "Task 1",
          "Task 2",
          "Task 3",
          "Task 4",
          "Task 0",
          "Task 1",
          "Task 2",
          "Task 3",
          "Task 4",
          "Task 0",
          "Task 1",
          "Task 2",
          "Task 3",
          "Task 4",
          "Task 0",
          "Task 1",
          "Task 2",
          "Task 3",
          "Task 4"
         ],
         "x0": " ",
         "xaxis": "x",
         "y": [
          3,
          3.25,
          3.5,
          4,
          3.5,
          1.75,
          1.25,
          1.25,
          3.25,
          1.75,
          2.75,
          1.25,
          2,
          3,
          4,
          3.25,
          2,
          2.5,
          2,
          1.5,
          2.75,
          2,
          2,
          3,
          2.25,
          1,
          2,
          1,
          2,
          2,
          1.75,
          1.5,
          1.75,
          2,
          2.25,
          2.75,
          1,
          2.5,
          2.25,
          2.25,
          3.25,
          2,
          2,
          5,
          4.25,
          4.75,
          1.25,
          3.5,
          3,
          3,
          2.5,
          2,
          2.25,
          2.25,
          2.5,
          1.5,
          2.25,
          2.25,
          2.25,
          2.75,
          2.75,
          1,
          4.5,
          1.75,
          3.5,
          2,
          2.75,
          3,
          1.25,
          2,
          2.25,
          2.75,
          2.75,
          1.75,
          1.75
         ],
         "y0": " ",
         "yaxis": "y"
        },
        {
         "alignmentgroup": "True",
         "boxpoints": false,
         "hovertemplate": "Approach=Blockly<br>Task=%{x}<br>TLX=%{y}<extra></extra>",
         "jitter": 0.2,
         "legendgroup": "Blockly",
         "marker": {
          "color": "#aea700"
         },
         "name": "Blockly",
         "notched": false,
         "offsetgroup": "Blockly",
         "orientation": "v",
         "showlegend": true,
         "type": "box",
         "whiskerwidth": 0.5,
         "x": [
          "Task 0",
          "Task 1",
          "Task 2",
          "Task 3",
          "Task 4",
          "Task 0",
          "Task 1",
          "Task 2",
          "Task 3",
          "Task 4",
          "Task 0",
          "Task 1",
          "Task 2",
          "Task 3",
          "Task 4",
          "Task 0",
          "Task 1",
          "Task 2",
          "Task 3",
          "Task 4",
          "Task 0",
          "Task 1",
          "Task 2",
          "Task 3",
          "Task 4",
          "Task 0",
          "Task 1",
          "Task 2",
          "Task 3",
          "Task 4",
          "Task 0",
          "Task 1",
          "Task 2",
          "Task 3",
          "Task 4",
          "Task 0",
          "Task 1",
          "Task 2",
          "Task 3",
          "Task 4",
          "Task 0",
          "Task 1",
          "Task 2",
          "Task 3",
          "Task 4",
          "Task 0",
          "Task 1",
          "Task 2",
          "Task 3",
          "Task 4",
          "Task 0",
          "Task 1",
          "Task 2",
          "Task 3",
          "Task 4",
          "Task 0",
          "Task 1",
          "Task 2",
          "Task 3",
          "Task 4",
          "Task 0",
          "Task 1",
          "Task 2",
          "Task 3",
          "Task 4",
          "Task 0",
          "Task 1",
          "Task 2",
          "Task 3",
          "Task 4",
          "Task 0",
          "Task 1",
          "Task 2",
          "Task 3",
          "Task 4"
         ],
         "x0": " ",
         "xaxis": "x",
         "y": [
          2.25,
          2,
          3.75,
          4,
          4.5,
          1,
          1,
          1.25,
          1.5,
          1.25,
          4.5,
          1,
          2,
          2,
          2,
          1.5,
          1,
          1.25,
          1.25,
          1.25,
          1.25,
          1.25,
          1.75,
          2.25,
          2,
          2.5,
          2.5,
          3.5,
          2,
          1.75,
          1.75,
          1,
          3.25,
          4,
          2.75,
          3,
          2.75,
          3.75,
          3.5,
          2.5,
          2.75,
          2.5,
          3.5,
          3,
          2.75,
          2.25,
          1.75,
          1.5,
          1.5,
          1.5,
          2.75,
          1.25,
          2.25,
          2.25,
          2,
          3.25,
          3.5,
          4.75,
          4.25,
          4,
          2.25,
          2.75,
          2.75,
          2.75,
          2.75,
          1.5,
          1.5,
          2.75,
          3.25,
          3.25,
          1.25,
          1,
          2,
          1,
          1
         ],
         "y0": " ",
         "yaxis": "y"
        }
       ],
       "layout": {
        "boxmode": "group",
        "font": {
         "family": "Old Standard TT, serif",
         "size": 26
        },
        "legend": {
         "title": {
          "text": "Approach"
         },
         "tracegroupgap": 0
        },
        "margin": {
         "t": 60
        },
        "plot_bgcolor": "#fff",
        "showlegend": false,
        "template": {
         "data": {
          "bar": [
           {
            "error_x": {
             "color": "#2a3f5f"
            },
            "error_y": {
             "color": "#2a3f5f"
            },
            "marker": {
             "line": {
              "color": "#E5ECF6",
              "width": 0.5
             },
             "pattern": {
              "fillmode": "overlay",
              "size": 10,
              "solidity": 0.2
             }
            },
            "type": "bar"
           }
          ],
          "barpolar": [
           {
            "marker": {
             "line": {
              "color": "#E5ECF6",
              "width": 0.5
             },
             "pattern": {
              "fillmode": "overlay",
              "size": 10,
              "solidity": 0.2
             }
            },
            "type": "barpolar"
           }
          ],
          "carpet": [
           {
            "aaxis": {
             "endlinecolor": "#2a3f5f",
             "gridcolor": "white",
             "linecolor": "white",
             "minorgridcolor": "white",
             "startlinecolor": "#2a3f5f"
            },
            "baxis": {
             "endlinecolor": "#2a3f5f",
             "gridcolor": "white",
             "linecolor": "white",
             "minorgridcolor": "white",
             "startlinecolor": "#2a3f5f"
            },
            "type": "carpet"
           }
          ],
          "choropleth": [
           {
            "colorbar": {
             "outlinewidth": 0,
             "ticks": ""
            },
            "type": "choropleth"
           }
          ],
          "contour": [
           {
            "colorbar": {
             "outlinewidth": 0,
             "ticks": ""
            },
            "colorscale": [
             [
              0,
              "#0d0887"
             ],
             [
              0.1111111111111111,
              "#46039f"
             ],
             [
              0.2222222222222222,
              "#7201a8"
             ],
             [
              0.3333333333333333,
              "#9c179e"
             ],
             [
              0.4444444444444444,
              "#bd3786"
             ],
             [
              0.5555555555555556,
              "#d8576b"
             ],
             [
              0.6666666666666666,
              "#ed7953"
             ],
             [
              0.7777777777777778,
              "#fb9f3a"
             ],
             [
              0.8888888888888888,
              "#fdca26"
             ],
             [
              1,
              "#f0f921"
             ]
            ],
            "type": "contour"
           }
          ],
          "contourcarpet": [
           {
            "colorbar": {
             "outlinewidth": 0,
             "ticks": ""
            },
            "type": "contourcarpet"
           }
          ],
          "heatmap": [
           {
            "colorbar": {
             "outlinewidth": 0,
             "ticks": ""
            },
            "colorscale": [
             [
              0,
              "#0d0887"
             ],
             [
              0.1111111111111111,
              "#46039f"
             ],
             [
              0.2222222222222222,
              "#7201a8"
             ],
             [
              0.3333333333333333,
              "#9c179e"
             ],
             [
              0.4444444444444444,
              "#bd3786"
             ],
             [
              0.5555555555555556,
              "#d8576b"
             ],
             [
              0.6666666666666666,
              "#ed7953"
             ],
             [
              0.7777777777777778,
              "#fb9f3a"
             ],
             [
              0.8888888888888888,
              "#fdca26"
             ],
             [
              1,
              "#f0f921"
             ]
            ],
            "type": "heatmap"
           }
          ],
          "heatmapgl": [
           {
            "colorbar": {
             "outlinewidth": 0,
             "ticks": ""
            },
            "colorscale": [
             [
              0,
              "#0d0887"
             ],
             [
              0.1111111111111111,
              "#46039f"
             ],
             [
              0.2222222222222222,
              "#7201a8"
             ],
             [
              0.3333333333333333,
              "#9c179e"
             ],
             [
              0.4444444444444444,
              "#bd3786"
             ],
             [
              0.5555555555555556,
              "#d8576b"
             ],
             [
              0.6666666666666666,
              "#ed7953"
             ],
             [
              0.7777777777777778,
              "#fb9f3a"
             ],
             [
              0.8888888888888888,
              "#fdca26"
             ],
             [
              1,
              "#f0f921"
             ]
            ],
            "type": "heatmapgl"
           }
          ],
          "histogram": [
           {
            "marker": {
             "pattern": {
              "fillmode": "overlay",
              "size": 10,
              "solidity": 0.2
             }
            },
            "type": "histogram"
           }
          ],
          "histogram2d": [
           {
            "colorbar": {
             "outlinewidth": 0,
             "ticks": ""
            },
            "colorscale": [
             [
              0,
              "#0d0887"
             ],
             [
              0.1111111111111111,
              "#46039f"
             ],
             [
              0.2222222222222222,
              "#7201a8"
             ],
             [
              0.3333333333333333,
              "#9c179e"
             ],
             [
              0.4444444444444444,
              "#bd3786"
             ],
             [
              0.5555555555555556,
              "#d8576b"
             ],
             [
              0.6666666666666666,
              "#ed7953"
             ],
             [
              0.7777777777777778,
              "#fb9f3a"
             ],
             [
              0.8888888888888888,
              "#fdca26"
             ],
             [
              1,
              "#f0f921"
             ]
            ],
            "type": "histogram2d"
           }
          ],
          "histogram2dcontour": [
           {
            "colorbar": {
             "outlinewidth": 0,
             "ticks": ""
            },
            "colorscale": [
             [
              0,
              "#0d0887"
             ],
             [
              0.1111111111111111,
              "#46039f"
             ],
             [
              0.2222222222222222,
              "#7201a8"
             ],
             [
              0.3333333333333333,
              "#9c179e"
             ],
             [
              0.4444444444444444,
              "#bd3786"
             ],
             [
              0.5555555555555556,
              "#d8576b"
             ],
             [
              0.6666666666666666,
              "#ed7953"
             ],
             [
              0.7777777777777778,
              "#fb9f3a"
             ],
             [
              0.8888888888888888,
              "#fdca26"
             ],
             [
              1,
              "#f0f921"
             ]
            ],
            "type": "histogram2dcontour"
           }
          ],
          "mesh3d": [
           {
            "colorbar": {
             "outlinewidth": 0,
             "ticks": ""
            },
            "type": "mesh3d"
           }
          ],
          "parcoords": [
           {
            "line": {
             "colorbar": {
              "outlinewidth": 0,
              "ticks": ""
             }
            },
            "type": "parcoords"
           }
          ],
          "pie": [
           {
            "automargin": true,
            "type": "pie"
           }
          ],
          "scatter": [
           {
            "marker": {
             "colorbar": {
              "outlinewidth": 0,
              "ticks": ""
             }
            },
            "type": "scatter"
           }
          ],
          "scatter3d": [
           {
            "line": {
             "colorbar": {
              "outlinewidth": 0,
              "ticks": ""
             }
            },
            "marker": {
             "colorbar": {
              "outlinewidth": 0,
              "ticks": ""
             }
            },
            "type": "scatter3d"
           }
          ],
          "scattercarpet": [
           {
            "marker": {
             "colorbar": {
              "outlinewidth": 0,
              "ticks": ""
             }
            },
            "type": "scattercarpet"
           }
          ],
          "scattergeo": [
           {
            "marker": {
             "colorbar": {
              "outlinewidth": 0,
              "ticks": ""
             }
            },
            "type": "scattergeo"
           }
          ],
          "scattergl": [
           {
            "marker": {
             "colorbar": {
              "outlinewidth": 0,
              "ticks": ""
             }
            },
            "type": "scattergl"
           }
          ],
          "scattermapbox": [
           {
            "marker": {
             "colorbar": {
              "outlinewidth": 0,
              "ticks": ""
             }
            },
            "type": "scattermapbox"
           }
          ],
          "scatterpolar": [
           {
            "marker": {
             "colorbar": {
              "outlinewidth": 0,
              "ticks": ""
             }
            },
            "type": "scatterpolar"
           }
          ],
          "scatterpolargl": [
           {
            "marker": {
             "colorbar": {
              "outlinewidth": 0,
              "ticks": ""
             }
            },
            "type": "scatterpolargl"
           }
          ],
          "scatterternary": [
           {
            "marker": {
             "colorbar": {
              "outlinewidth": 0,
              "ticks": ""
             }
            },
            "type": "scatterternary"
           }
          ],
          "surface": [
           {
            "colorbar": {
             "outlinewidth": 0,
             "ticks": ""
            },
            "colorscale": [
             [
              0,
              "#0d0887"
             ],
             [
              0.1111111111111111,
              "#46039f"
             ],
             [
              0.2222222222222222,
              "#7201a8"
             ],
             [
              0.3333333333333333,
              "#9c179e"
             ],
             [
              0.4444444444444444,
              "#bd3786"
             ],
             [
              0.5555555555555556,
              "#d8576b"
             ],
             [
              0.6666666666666666,
              "#ed7953"
             ],
             [
              0.7777777777777778,
              "#fb9f3a"
             ],
             [
              0.8888888888888888,
              "#fdca26"
             ],
             [
              1,
              "#f0f921"
             ]
            ],
            "type": "surface"
           }
          ],
          "table": [
           {
            "cells": {
             "fill": {
              "color": "#EBF0F8"
             },
             "line": {
              "color": "white"
             }
            },
            "header": {
             "fill": {
              "color": "#C8D4E3"
             },
             "line": {
              "color": "white"
             }
            },
            "type": "table"
           }
          ]
         },
         "layout": {
          "annotationdefaults": {
           "arrowcolor": "#2a3f5f",
           "arrowhead": 0,
           "arrowwidth": 1
          },
          "autotypenumbers": "strict",
          "coloraxis": {
           "colorbar": {
            "outlinewidth": 0,
            "ticks": ""
           }
          },
          "colorscale": {
           "diverging": [
            [
             0,
             "#8e0152"
            ],
            [
             0.1,
             "#c51b7d"
            ],
            [
             0.2,
             "#de77ae"
            ],
            [
             0.3,
             "#f1b6da"
            ],
            [
             0.4,
             "#fde0ef"
            ],
            [
             0.5,
             "#f7f7f7"
            ],
            [
             0.6,
             "#e6f5d0"
            ],
            [
             0.7,
             "#b8e186"
            ],
            [
             0.8,
             "#7fbc41"
            ],
            [
             0.9,
             "#4d9221"
            ],
            [
             1,
             "#276419"
            ]
           ],
           "sequential": [
            [
             0,
             "#0d0887"
            ],
            [
             0.1111111111111111,
             "#46039f"
            ],
            [
             0.2222222222222222,
             "#7201a8"
            ],
            [
             0.3333333333333333,
             "#9c179e"
            ],
            [
             0.4444444444444444,
             "#bd3786"
            ],
            [
             0.5555555555555556,
             "#d8576b"
            ],
            [
             0.6666666666666666,
             "#ed7953"
            ],
            [
             0.7777777777777778,
             "#fb9f3a"
            ],
            [
             0.8888888888888888,
             "#fdca26"
            ],
            [
             1,
             "#f0f921"
            ]
           ],
           "sequentialminus": [
            [
             0,
             "#0d0887"
            ],
            [
             0.1111111111111111,
             "#46039f"
            ],
            [
             0.2222222222222222,
             "#7201a8"
            ],
            [
             0.3333333333333333,
             "#9c179e"
            ],
            [
             0.4444444444444444,
             "#bd3786"
            ],
            [
             0.5555555555555556,
             "#d8576b"
            ],
            [
             0.6666666666666666,
             "#ed7953"
            ],
            [
             0.7777777777777778,
             "#fb9f3a"
            ],
            [
             0.8888888888888888,
             "#fdca26"
            ],
            [
             1,
             "#f0f921"
            ]
           ]
          },
          "colorway": [
           "#636efa",
           "#EF553B",
           "#00cc96",
           "#ab63fa",
           "#FFA15A",
           "#19d3f3",
           "#FF6692",
           "#B6E880",
           "#FF97FF",
           "#FECB52"
          ],
          "font": {
           "color": "#2a3f5f"
          },
          "geo": {
           "bgcolor": "white",
           "lakecolor": "white",
           "landcolor": "#E5ECF6",
           "showlakes": true,
           "showland": true,
           "subunitcolor": "white"
          },
          "hoverlabel": {
           "align": "left"
          },
          "hovermode": "closest",
          "mapbox": {
           "style": "light"
          },
          "paper_bgcolor": "white",
          "plot_bgcolor": "#E5ECF6",
          "polar": {
           "angularaxis": {
            "gridcolor": "white",
            "linecolor": "white",
            "ticks": ""
           },
           "bgcolor": "#E5ECF6",
           "radialaxis": {
            "gridcolor": "white",
            "linecolor": "white",
            "ticks": ""
           }
          },
          "scene": {
           "xaxis": {
            "backgroundcolor": "#E5ECF6",
            "gridcolor": "white",
            "gridwidth": 2,
            "linecolor": "white",
            "showbackground": true,
            "ticks": "",
            "zerolinecolor": "white"
           },
           "yaxis": {
            "backgroundcolor": "#E5ECF6",
            "gridcolor": "white",
            "gridwidth": 2,
            "linecolor": "white",
            "showbackground": true,
            "ticks": "",
            "zerolinecolor": "white"
           },
           "zaxis": {
            "backgroundcolor": "#E5ECF6",
            "gridcolor": "white",
            "gridwidth": 2,
            "linecolor": "white",
            "showbackground": true,
            "ticks": "",
            "zerolinecolor": "white"
           }
          },
          "shapedefaults": {
           "line": {
            "color": "#2a3f5f"
           }
          },
          "ternary": {
           "aaxis": {
            "gridcolor": "white",
            "linecolor": "white",
            "ticks": ""
           },
           "baxis": {
            "gridcolor": "white",
            "linecolor": "white",
            "ticks": ""
           },
           "bgcolor": "#E5ECF6",
           "caxis": {
            "gridcolor": "white",
            "linecolor": "white",
            "ticks": ""
           }
          },
          "title": {
           "x": 0.05
          },
          "xaxis": {
           "automargin": true,
           "gridcolor": "white",
           "linecolor": "white",
           "ticks": "",
           "title": {
            "standoff": 15
           },
           "zerolinecolor": "white",
           "zerolinewidth": 2
          },
          "yaxis": {
           "automargin": true,
           "gridcolor": "white",
           "linecolor": "white",
           "ticks": "",
           "title": {
            "standoff": 15
           },
           "zerolinecolor": "white",
           "zerolinewidth": 2
          }
         }
        },
        "width": 1000,
        "xaxis": {
         "anchor": "y",
         "domain": [
          0,
          1
         ],
         "showgrid": true,
         "title": {
          "text": ""
         }
        },
        "yaxis": {
         "anchor": "x",
         "domain": [
          0,
          1
         ],
         "dtick": 1,
         "gridcolor": "#d0d0d0",
         "ticks": "outside",
         "tickson": "boundaries",
         "title": {
          "text": "Average TLX score"
         }
        }
       }
      }
     },
     "metadata": {},
     "output_type": "display_data"
    }
   ],
   "source": [
    "fig = px.box(df_hypo2_tlx, y=\"TLX\", x=\"Task\", color=\"Approach\", color_discrete_map={\"Json\": \"rgba(218, 60, 66, 1.00)\",\"Blockly\": \"#aea700\"})\n",
    "fig.update_layout(font_family=\"Old Standard TT, serif\", font_size=26, width=1000, plot_bgcolor=\"#fff\", showlegend=False)\n",
    "fig.update_traces(whiskerwidth=0.5, jitter=0.2, boxpoints=False)\n",
    "fig.update_xaxes(title=\"\", showgrid=True)\n",
    "fig.update_yaxes(title='Average TLX score', gridcolor=\"#d0d0d0\", dtick=1, ticks=\"outside\", tickson=\"boundaries\")\n",
    "fig.show()"
   ]
  },
  {
   "cell_type": "markdown",
   "metadata": {},
   "source": [
    "#### Prepare new dataframe for analysis of ARCS results"
   ]
  },
  {
   "cell_type": "code",
   "execution_count": 33,
   "metadata": {},
   "outputs": [],
   "source": [
    "df_hypo2_arcs = pd.DataFrame(columns=[\"Approach\", \"Dimension\", \"Score\"])\n",
    "\n",
    "for index, row in df.iterrows():\n",
    "  a_score = np.sum([row[\"post_A1\"], row[\"post_A2\"]]) / 2\n",
    "  a_df = pd.DataFrame([{\"Approach\": row[\"group\"], \"Dimension\": \"Attention\", \"Score\": a_score}], columns=[\"Approach\", \"Dimension\", \"Score\"])\n",
    "  df_hypo2_arcs = pd.concat([df_hypo2_arcs, a_df], ignore_index=True)\n",
    "\n",
    "  rv_score = np.sum([row[\"post_RV1\"], row[\"post_RV2\"]]) / 2\n",
    "  rv_df = pd.DataFrame([{\"Approach\": row[\"group\"], \"Dimension\": \"Relevance\", \"Score\": rv_score}], columns=[\"Approach\", \"Dimension\", \"Score\"])\n",
    "  df_hypo2_arcs = pd.concat([df_hypo2_arcs, rv_df], ignore_index=True)\n",
    "\n",
    "  c_score = np.sum([row[\"post_C1\"], row[\"post_C2\"]]) / 2\n",
    "  c_df = pd.DataFrame([{\"Approach\": row[\"group\"], \"Dimension\": \"Confidence\", \"Score\": c_score}], columns=[\"Approach\", \"Dimension\", \"Score\"])\n",
    "  df_hypo2_arcs = pd.concat([df_hypo2_arcs, c_df], ignore_index=True)\n",
    "\n",
    "  s_score = np.sum([row[\"post_S1\"], row[\"post_S2\"]]) / 2\n",
    "  s_df = pd.DataFrame([{\"Approach\": row[\"group\"], \"Dimension\": \"Satisfaction\", \"Score\": s_score}], columns=[\"Approach\", \"Dimension\", \"Score\"])\n",
    "  df_hypo2_arcs = pd.concat([df_hypo2_arcs, s_df], ignore_index=True)"
   ]
  },
  {
   "cell_type": "markdown",
   "metadata": {},
   "source": [
    "#### Plot ARCS results"
   ]
  },
  {
   "cell_type": "code",
   "execution_count": 34,
   "metadata": {},
   "outputs": [
    {
     "data": {
      "application/vnd.plotly.v1+json": {
       "config": {
        "plotlyServerURL": "https://plot.ly"
       },
       "data": [
        {
         "alignmentgroup": "True",
         "boxpoints": false,
         "hovertemplate": "Approach=Json<br>Dimension=%{x}<br>Score=%{y}<extra></extra>",
         "jitter": 0.2,
         "legendgroup": "Json",
         "marker": {
          "color": "rgba(218, 60, 66, 1.00)"
         },
         "name": "Json",
         "notched": false,
         "offsetgroup": "Json",
         "orientation": "v",
         "showlegend": true,
         "type": "box",
         "whiskerwidth": 0.5,
         "x": [
          "Attention",
          "Relevance",
          "Confidence",
          "Satisfaction",
          "Attention",
          "Relevance",
          "Confidence",
          "Satisfaction",
          "Attention",
          "Relevance",
          "Confidence",
          "Satisfaction",
          "Attention",
          "Relevance",
          "Confidence",
          "Satisfaction",
          "Attention",
          "Relevance",
          "Confidence",
          "Satisfaction",
          "Attention",
          "Relevance",
          "Confidence",
          "Satisfaction",
          "Attention",
          "Relevance",
          "Confidence",
          "Satisfaction",
          "Attention",
          "Relevance",
          "Confidence",
          "Satisfaction",
          "Attention",
          "Relevance",
          "Confidence",
          "Satisfaction",
          "Attention",
          "Relevance",
          "Confidence",
          "Satisfaction",
          "Attention",
          "Relevance",
          "Confidence",
          "Satisfaction",
          "Attention",
          "Relevance",
          "Confidence",
          "Satisfaction",
          "Attention",
          "Relevance",
          "Confidence",
          "Satisfaction",
          "Attention",
          "Relevance",
          "Confidence",
          "Satisfaction",
          "Attention",
          "Relevance",
          "Confidence",
          "Satisfaction"
         ],
         "x0": " ",
         "xaxis": "x",
         "y": [
          3,
          4,
          3.5,
          3,
          4.5,
          3.5,
          4.5,
          4.5,
          5,
          5,
          5,
          4.5,
          5,
          3.5,
          4.5,
          4,
          3.5,
          3,
          4,
          3,
          5,
          5,
          5,
          4.5,
          5,
          4.5,
          5,
          4.5,
          5,
          4.5,
          5,
          5,
          4,
          4,
          4,
          4,
          4,
          4,
          4,
          4,
          4,
          4,
          4,
          4,
          4.5,
          3.5,
          4.5,
          3.5,
          4,
          4,
          4,
          3.5,
          5,
          4.5,
          4,
          4,
          5,
          4,
          3.5,
          4
         ],
         "y0": " ",
         "yaxis": "y"
        },
        {
         "alignmentgroup": "True",
         "boxpoints": false,
         "hovertemplate": "Approach=Blockly<br>Dimension=%{x}<br>Score=%{y}<extra></extra>",
         "jitter": 0.2,
         "legendgroup": "Blockly",
         "marker": {
          "color": "#aea700"
         },
         "name": "Blockly",
         "notched": false,
         "offsetgroup": "Blockly",
         "orientation": "v",
         "showlegend": true,
         "type": "box",
         "whiskerwidth": 0.5,
         "x": [
          "Attention",
          "Relevance",
          "Confidence",
          "Satisfaction",
          "Attention",
          "Relevance",
          "Confidence",
          "Satisfaction",
          "Attention",
          "Relevance",
          "Confidence",
          "Satisfaction",
          "Attention",
          "Relevance",
          "Confidence",
          "Satisfaction",
          "Attention",
          "Relevance",
          "Confidence",
          "Satisfaction",
          "Attention",
          "Relevance",
          "Confidence",
          "Satisfaction",
          "Attention",
          "Relevance",
          "Confidence",
          "Satisfaction",
          "Attention",
          "Relevance",
          "Confidence",
          "Satisfaction",
          "Attention",
          "Relevance",
          "Confidence",
          "Satisfaction",
          "Attention",
          "Relevance",
          "Confidence",
          "Satisfaction",
          "Attention",
          "Relevance",
          "Confidence",
          "Satisfaction",
          "Attention",
          "Relevance",
          "Confidence",
          "Satisfaction",
          "Attention",
          "Relevance",
          "Confidence",
          "Satisfaction",
          "Attention",
          "Relevance",
          "Confidence",
          "Satisfaction",
          "Attention",
          "Relevance",
          "Confidence",
          "Satisfaction"
         ],
         "x0": " ",
         "xaxis": "x",
         "y": [
          4,
          3,
          1.5,
          2,
          4.5,
          4.5,
          5,
          4.5,
          5,
          3.5,
          3.5,
          3,
          5,
          4,
          5,
          4.5,
          5,
          4.5,
          5,
          4.5,
          5,
          5,
          4.5,
          4,
          5,
          4,
          4,
          3,
          4.5,
          4.5,
          3.5,
          3.5,
          5,
          4,
          4,
          4,
          5,
          4.5,
          5,
          4.5,
          4.5,
          3.5,
          4.5,
          5,
          4,
          4,
          2.5,
          2,
          4,
          3.5,
          4,
          4,
          5,
          4.5,
          4,
          4,
          4.5,
          3.5,
          4,
          2.5
         ],
         "y0": " ",
         "yaxis": "y"
        }
       ],
       "layout": {
        "boxmode": "group",
        "font": {
         "family": "Old Standard TT, serif",
         "size": 26
        },
        "legend": {
         "title": {
          "text": ""
         },
         "tracegroupgap": 0
        },
        "margin": {
         "t": 60
        },
        "plot_bgcolor": "rgb(255,255,255)",
        "template": {
         "data": {
          "bar": [
           {
            "error_x": {
             "color": "#2a3f5f"
            },
            "error_y": {
             "color": "#2a3f5f"
            },
            "marker": {
             "line": {
              "color": "#E5ECF6",
              "width": 0.5
             },
             "pattern": {
              "fillmode": "overlay",
              "size": 10,
              "solidity": 0.2
             }
            },
            "type": "bar"
           }
          ],
          "barpolar": [
           {
            "marker": {
             "line": {
              "color": "#E5ECF6",
              "width": 0.5
             },
             "pattern": {
              "fillmode": "overlay",
              "size": 10,
              "solidity": 0.2
             }
            },
            "type": "barpolar"
           }
          ],
          "carpet": [
           {
            "aaxis": {
             "endlinecolor": "#2a3f5f",
             "gridcolor": "white",
             "linecolor": "white",
             "minorgridcolor": "white",
             "startlinecolor": "#2a3f5f"
            },
            "baxis": {
             "endlinecolor": "#2a3f5f",
             "gridcolor": "white",
             "linecolor": "white",
             "minorgridcolor": "white",
             "startlinecolor": "#2a3f5f"
            },
            "type": "carpet"
           }
          ],
          "choropleth": [
           {
            "colorbar": {
             "outlinewidth": 0,
             "ticks": ""
            },
            "type": "choropleth"
           }
          ],
          "contour": [
           {
            "colorbar": {
             "outlinewidth": 0,
             "ticks": ""
            },
            "colorscale": [
             [
              0,
              "#0d0887"
             ],
             [
              0.1111111111111111,
              "#46039f"
             ],
             [
              0.2222222222222222,
              "#7201a8"
             ],
             [
              0.3333333333333333,
              "#9c179e"
             ],
             [
              0.4444444444444444,
              "#bd3786"
             ],
             [
              0.5555555555555556,
              "#d8576b"
             ],
             [
              0.6666666666666666,
              "#ed7953"
             ],
             [
              0.7777777777777778,
              "#fb9f3a"
             ],
             [
              0.8888888888888888,
              "#fdca26"
             ],
             [
              1,
              "#f0f921"
             ]
            ],
            "type": "contour"
           }
          ],
          "contourcarpet": [
           {
            "colorbar": {
             "outlinewidth": 0,
             "ticks": ""
            },
            "type": "contourcarpet"
           }
          ],
          "heatmap": [
           {
            "colorbar": {
             "outlinewidth": 0,
             "ticks": ""
            },
            "colorscale": [
             [
              0,
              "#0d0887"
             ],
             [
              0.1111111111111111,
              "#46039f"
             ],
             [
              0.2222222222222222,
              "#7201a8"
             ],
             [
              0.3333333333333333,
              "#9c179e"
             ],
             [
              0.4444444444444444,
              "#bd3786"
             ],
             [
              0.5555555555555556,
              "#d8576b"
             ],
             [
              0.6666666666666666,
              "#ed7953"
             ],
             [
              0.7777777777777778,
              "#fb9f3a"
             ],
             [
              0.8888888888888888,
              "#fdca26"
             ],
             [
              1,
              "#f0f921"
             ]
            ],
            "type": "heatmap"
           }
          ],
          "heatmapgl": [
           {
            "colorbar": {
             "outlinewidth": 0,
             "ticks": ""
            },
            "colorscale": [
             [
              0,
              "#0d0887"
             ],
             [
              0.1111111111111111,
              "#46039f"
             ],
             [
              0.2222222222222222,
              "#7201a8"
             ],
             [
              0.3333333333333333,
              "#9c179e"
             ],
             [
              0.4444444444444444,
              "#bd3786"
             ],
             [
              0.5555555555555556,
              "#d8576b"
             ],
             [
              0.6666666666666666,
              "#ed7953"
             ],
             [
              0.7777777777777778,
              "#fb9f3a"
             ],
             [
              0.8888888888888888,
              "#fdca26"
             ],
             [
              1,
              "#f0f921"
             ]
            ],
            "type": "heatmapgl"
           }
          ],
          "histogram": [
           {
            "marker": {
             "pattern": {
              "fillmode": "overlay",
              "size": 10,
              "solidity": 0.2
             }
            },
            "type": "histogram"
           }
          ],
          "histogram2d": [
           {
            "colorbar": {
             "outlinewidth": 0,
             "ticks": ""
            },
            "colorscale": [
             [
              0,
              "#0d0887"
             ],
             [
              0.1111111111111111,
              "#46039f"
             ],
             [
              0.2222222222222222,
              "#7201a8"
             ],
             [
              0.3333333333333333,
              "#9c179e"
             ],
             [
              0.4444444444444444,
              "#bd3786"
             ],
             [
              0.5555555555555556,
              "#d8576b"
             ],
             [
              0.6666666666666666,
              "#ed7953"
             ],
             [
              0.7777777777777778,
              "#fb9f3a"
             ],
             [
              0.8888888888888888,
              "#fdca26"
             ],
             [
              1,
              "#f0f921"
             ]
            ],
            "type": "histogram2d"
           }
          ],
          "histogram2dcontour": [
           {
            "colorbar": {
             "outlinewidth": 0,
             "ticks": ""
            },
            "colorscale": [
             [
              0,
              "#0d0887"
             ],
             [
              0.1111111111111111,
              "#46039f"
             ],
             [
              0.2222222222222222,
              "#7201a8"
             ],
             [
              0.3333333333333333,
              "#9c179e"
             ],
             [
              0.4444444444444444,
              "#bd3786"
             ],
             [
              0.5555555555555556,
              "#d8576b"
             ],
             [
              0.6666666666666666,
              "#ed7953"
             ],
             [
              0.7777777777777778,
              "#fb9f3a"
             ],
             [
              0.8888888888888888,
              "#fdca26"
             ],
             [
              1,
              "#f0f921"
             ]
            ],
            "type": "histogram2dcontour"
           }
          ],
          "mesh3d": [
           {
            "colorbar": {
             "outlinewidth": 0,
             "ticks": ""
            },
            "type": "mesh3d"
           }
          ],
          "parcoords": [
           {
            "line": {
             "colorbar": {
              "outlinewidth": 0,
              "ticks": ""
             }
            },
            "type": "parcoords"
           }
          ],
          "pie": [
           {
            "automargin": true,
            "type": "pie"
           }
          ],
          "scatter": [
           {
            "marker": {
             "colorbar": {
              "outlinewidth": 0,
              "ticks": ""
             }
            },
            "type": "scatter"
           }
          ],
          "scatter3d": [
           {
            "line": {
             "colorbar": {
              "outlinewidth": 0,
              "ticks": ""
             }
            },
            "marker": {
             "colorbar": {
              "outlinewidth": 0,
              "ticks": ""
             }
            },
            "type": "scatter3d"
           }
          ],
          "scattercarpet": [
           {
            "marker": {
             "colorbar": {
              "outlinewidth": 0,
              "ticks": ""
             }
            },
            "type": "scattercarpet"
           }
          ],
          "scattergeo": [
           {
            "marker": {
             "colorbar": {
              "outlinewidth": 0,
              "ticks": ""
             }
            },
            "type": "scattergeo"
           }
          ],
          "scattergl": [
           {
            "marker": {
             "colorbar": {
              "outlinewidth": 0,
              "ticks": ""
             }
            },
            "type": "scattergl"
           }
          ],
          "scattermapbox": [
           {
            "marker": {
             "colorbar": {
              "outlinewidth": 0,
              "ticks": ""
             }
            },
            "type": "scattermapbox"
           }
          ],
          "scatterpolar": [
           {
            "marker": {
             "colorbar": {
              "outlinewidth": 0,
              "ticks": ""
             }
            },
            "type": "scatterpolar"
           }
          ],
          "scatterpolargl": [
           {
            "marker": {
             "colorbar": {
              "outlinewidth": 0,
              "ticks": ""
             }
            },
            "type": "scatterpolargl"
           }
          ],
          "scatterternary": [
           {
            "marker": {
             "colorbar": {
              "outlinewidth": 0,
              "ticks": ""
             }
            },
            "type": "scatterternary"
           }
          ],
          "surface": [
           {
            "colorbar": {
             "outlinewidth": 0,
             "ticks": ""
            },
            "colorscale": [
             [
              0,
              "#0d0887"
             ],
             [
              0.1111111111111111,
              "#46039f"
             ],
             [
              0.2222222222222222,
              "#7201a8"
             ],
             [
              0.3333333333333333,
              "#9c179e"
             ],
             [
              0.4444444444444444,
              "#bd3786"
             ],
             [
              0.5555555555555556,
              "#d8576b"
             ],
             [
              0.6666666666666666,
              "#ed7953"
             ],
             [
              0.7777777777777778,
              "#fb9f3a"
             ],
             [
              0.8888888888888888,
              "#fdca26"
             ],
             [
              1,
              "#f0f921"
             ]
            ],
            "type": "surface"
           }
          ],
          "table": [
           {
            "cells": {
             "fill": {
              "color": "#EBF0F8"
             },
             "line": {
              "color": "white"
             }
            },
            "header": {
             "fill": {
              "color": "#C8D4E3"
             },
             "line": {
              "color": "white"
             }
            },
            "type": "table"
           }
          ]
         },
         "layout": {
          "annotationdefaults": {
           "arrowcolor": "#2a3f5f",
           "arrowhead": 0,
           "arrowwidth": 1
          },
          "autotypenumbers": "strict",
          "coloraxis": {
           "colorbar": {
            "outlinewidth": 0,
            "ticks": ""
           }
          },
          "colorscale": {
           "diverging": [
            [
             0,
             "#8e0152"
            ],
            [
             0.1,
             "#c51b7d"
            ],
            [
             0.2,
             "#de77ae"
            ],
            [
             0.3,
             "#f1b6da"
            ],
            [
             0.4,
             "#fde0ef"
            ],
            [
             0.5,
             "#f7f7f7"
            ],
            [
             0.6,
             "#e6f5d0"
            ],
            [
             0.7,
             "#b8e186"
            ],
            [
             0.8,
             "#7fbc41"
            ],
            [
             0.9,
             "#4d9221"
            ],
            [
             1,
             "#276419"
            ]
           ],
           "sequential": [
            [
             0,
             "#0d0887"
            ],
            [
             0.1111111111111111,
             "#46039f"
            ],
            [
             0.2222222222222222,
             "#7201a8"
            ],
            [
             0.3333333333333333,
             "#9c179e"
            ],
            [
             0.4444444444444444,
             "#bd3786"
            ],
            [
             0.5555555555555556,
             "#d8576b"
            ],
            [
             0.6666666666666666,
             "#ed7953"
            ],
            [
             0.7777777777777778,
             "#fb9f3a"
            ],
            [
             0.8888888888888888,
             "#fdca26"
            ],
            [
             1,
             "#f0f921"
            ]
           ],
           "sequentialminus": [
            [
             0,
             "#0d0887"
            ],
            [
             0.1111111111111111,
             "#46039f"
            ],
            [
             0.2222222222222222,
             "#7201a8"
            ],
            [
             0.3333333333333333,
             "#9c179e"
            ],
            [
             0.4444444444444444,
             "#bd3786"
            ],
            [
             0.5555555555555556,
             "#d8576b"
            ],
            [
             0.6666666666666666,
             "#ed7953"
            ],
            [
             0.7777777777777778,
             "#fb9f3a"
            ],
            [
             0.8888888888888888,
             "#fdca26"
            ],
            [
             1,
             "#f0f921"
            ]
           ]
          },
          "colorway": [
           "#636efa",
           "#EF553B",
           "#00cc96",
           "#ab63fa",
           "#FFA15A",
           "#19d3f3",
           "#FF6692",
           "#B6E880",
           "#FF97FF",
           "#FECB52"
          ],
          "font": {
           "color": "#2a3f5f"
          },
          "geo": {
           "bgcolor": "white",
           "lakecolor": "white",
           "landcolor": "#E5ECF6",
           "showlakes": true,
           "showland": true,
           "subunitcolor": "white"
          },
          "hoverlabel": {
           "align": "left"
          },
          "hovermode": "closest",
          "mapbox": {
           "style": "light"
          },
          "paper_bgcolor": "white",
          "plot_bgcolor": "#E5ECF6",
          "polar": {
           "angularaxis": {
            "gridcolor": "white",
            "linecolor": "white",
            "ticks": ""
           },
           "bgcolor": "#E5ECF6",
           "radialaxis": {
            "gridcolor": "white",
            "linecolor": "white",
            "ticks": ""
           }
          },
          "scene": {
           "xaxis": {
            "backgroundcolor": "#E5ECF6",
            "gridcolor": "white",
            "gridwidth": 2,
            "linecolor": "white",
            "showbackground": true,
            "ticks": "",
            "zerolinecolor": "white"
           },
           "yaxis": {
            "backgroundcolor": "#E5ECF6",
            "gridcolor": "white",
            "gridwidth": 2,
            "linecolor": "white",
            "showbackground": true,
            "ticks": "",
            "zerolinecolor": "white"
           },
           "zaxis": {
            "backgroundcolor": "#E5ECF6",
            "gridcolor": "white",
            "gridwidth": 2,
            "linecolor": "white",
            "showbackground": true,
            "ticks": "",
            "zerolinecolor": "white"
           }
          },
          "shapedefaults": {
           "line": {
            "color": "#2a3f5f"
           }
          },
          "ternary": {
           "aaxis": {
            "gridcolor": "white",
            "linecolor": "white",
            "ticks": ""
           },
           "baxis": {
            "gridcolor": "white",
            "linecolor": "white",
            "ticks": ""
           },
           "bgcolor": "#E5ECF6",
           "caxis": {
            "gridcolor": "white",
            "linecolor": "white",
            "ticks": ""
           }
          },
          "title": {
           "x": 0.05
          },
          "xaxis": {
           "automargin": true,
           "gridcolor": "white",
           "linecolor": "white",
           "ticks": "",
           "title": {
            "standoff": 15
           },
           "zerolinecolor": "white",
           "zerolinewidth": 2
          },
          "yaxis": {
           "automargin": true,
           "gridcolor": "white",
           "linecolor": "white",
           "ticks": "",
           "title": {
            "standoff": 15
           },
           "zerolinecolor": "white",
           "zerolinewidth": 2
          }
         }
        },
        "width": 1000,
        "xaxis": {
         "anchor": "y",
         "domain": [
          0,
          1
         ],
         "showgrid": true,
         "title": {
          "text": ""
         }
        },
        "yaxis": {
         "anchor": "x",
         "domain": [
          0,
          1
         ],
         "dtick": 1,
         "gridcolor": "rgb(150,150,150)",
         "range": [
          0.9,
          5.1
         ],
         "showgrid": true,
         "ticks": "outside",
         "tickson": "boundaries",
         "title": {
          "text": "Average score"
         }
        }
       }
      }
     },
     "metadata": {},
     "output_type": "display_data"
    }
   ],
   "source": [
    "fig = px.box(df_hypo2_arcs, y=\"Score\", x=\"Dimension\", color=\"Approach\", color_discrete_map={\"Json\": \"rgba(218, 60, 66, 1.00)\",\"Blockly\": \"#aea700\"})\n",
    "fig.update_layout(font_family=\"Old Standard TT, serif\", font_size=26, width=1000, plot_bgcolor=\"rgb(255,255,255)\", yaxis_range=[0.9, 5.1], legend_title=\"\")\n",
    "fig.update_traces(whiskerwidth=0.5, jitter=0.2, boxpoints=False)\n",
    "fig.update_xaxes(title=\"\", showgrid=True)\n",
    "fig.update_yaxes(title='Average score', showgrid=True, gridcolor=\"rgb(150,150,150)\", dtick=1, ticks=\"outside\", tickson=\"boundaries\")\n",
    "fig.show()"
   ]
  }
 ],
 "metadata": {
  "interpreter": {
   "hash": "83a98bad8bf7c80d059f82792ff1f66402d07403253626b58ba669500c3da07a"
  },
  "kernelspec": {
   "display_name": "Python 3.9.11 ('blockly_range')",
   "language": "python",
   "name": "python3"
  },
  "language_info": {
   "codemirror_mode": {
    "name": "ipython",
    "version": 3
   },
   "file_extension": ".py",
   "mimetype": "text/x-python",
   "name": "python",
   "nbconvert_exporter": "python",
   "pygments_lexer": "ipython3",
   "version": "3.9.11"
  },
  "orig_nbformat": 4
 },
 "nbformat": 4,
 "nbformat_minor": 2
}
